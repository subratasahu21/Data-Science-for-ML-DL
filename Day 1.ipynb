{
 "cells": [
  {
   "cell_type": "code",
   "execution_count": 2,
   "id": "453a464c-2776-4835-b3b3-973e02fee120",
   "metadata": {},
   "outputs": [
    {
     "name": "stdout",
     "output_type": "stream",
     "text": [
      "Hello World\n",
      "The Age is: 43\n"
     ]
    }
   ],
   "source": [
    "print(\"Hello World\")\n",
    "Age=22\n",
    "print(\"The Age is:\", 65-Age)"
   ]
  },
  {
   "cell_type": "code",
   "execution_count": 6,
   "id": "36c0f23e-a065-4616-b578-c8d9a6321a62",
   "metadata": {},
   "outputs": [
    {
     "data": {
      "text/plain": [
       "True"
      ]
     },
     "execution_count": 6,
     "metadata": {},
     "output_type": "execute_result"
    }
   ],
   "source": [
    "a='A string'\n",
    "b=\"A string\"\n",
    "b==a"
   ]
  },
  {
   "cell_type": "code",
   "execution_count": 5,
   "id": "84ae591e-aded-4ac7-b016-3e4093afdfd8",
   "metadata": {},
   "outputs": [
    {
     "name": "stdout",
     "output_type": "stream",
     "text": [
      "A String\n"
     ]
    }
   ],
   "source": [
    "print(\"A String\")"
   ]
  },
  {
   "cell_type": "code",
   "execution_count": 8,
   "id": "faeff128-8da2-47af-8e9d-ef06ae5cfc93",
   "metadata": {},
   "outputs": [
    {
     "data": {
      "text/plain": [
       "False"
      ]
     },
     "execution_count": 8,
     "metadata": {},
     "output_type": "execute_result"
    }
   ],
   "source": [
    "a=25\n",
    "b=15\n",
    "b==a"
   ]
  },
  {
   "cell_type": "code",
   "execution_count": 11,
   "id": "1bc6f117-bcc9-492c-86f3-cbdb41c657a7",
   "metadata": {},
   "outputs": [
    {
     "name": "stdout",
     "output_type": "stream",
     "text": [
      "5 9\n",
      "9 5\n"
     ]
    }
   ],
   "source": [
    "a=5\n",
    "b=9\n",
    "print(a, b)\n",
    "a, b=b, a\n",
    "print(a, b)"
   ]
  },
  {
   "cell_type": "code",
   "execution_count": 12,
   "id": "db859c5b-a410-4885-b0e7-99412ee48a21",
   "metadata": {},
   "outputs": [
    {
     "name": "stdout",
     "output_type": "stream",
     "text": [
      "A B\n",
      "B A\n"
     ]
    }
   ],
   "source": [
    "a=\"A\"\n",
    "b=\"B\"\n",
    "print(a, b)\n",
    "a, b=b, a\n",
    "print(a, b)"
   ]
  },
  {
   "cell_type": "code",
   "execution_count": 14,
   "id": "7bacad93-3f12-47df-9133-4688d473c0f4",
   "metadata": {},
   "outputs": [
    {
     "name": "stdout",
     "output_type": "stream",
     "text": [
      "<class 'float'>\n",
      "<class 'str'>\n",
      "<class 'int'>\n"
     ]
    }
   ],
   "source": [
    "pi=3.1415926\n",
    "message=\"Hello World\"\n",
    "i=2+2\n",
    "print(type(pi))\n",
    "print(type(message))\n",
    "print(type(i))"
   ]
  },
  {
   "cell_type": "code",
   "execution_count": 15,
   "id": "a552d478-c156-42b6-b22d-e908aeacc826",
   "metadata": {},
   "outputs": [
    {
     "name": "stdin",
     "output_type": "stream",
     "text": [
      "Enter the number:  5\n"
     ]
    }
   ],
   "source": [
    "a=int(input(\"Enter the number: \"))"
   ]
  },
  {
   "cell_type": "code",
   "execution_count": 16,
   "id": "f47c033a-620e-45f0-89cd-c92928a57b69",
   "metadata": {},
   "outputs": [
    {
     "name": "stdout",
     "output_type": "stream",
     "text": [
      "5\n"
     ]
    }
   ],
   "source": [
    "print(a)"
   ]
  },
  {
   "cell_type": "code",
   "execution_count": 18,
   "id": "eaabb19f-d667-4298-85ff-a72891759d74",
   "metadata": {},
   "outputs": [
    {
     "name": "stdout",
     "output_type": "stream",
     "text": [
      "10\n"
     ]
    }
   ],
   "source": [
    "a=50\n",
    "b=5\n",
    "print(a//b)"
   ]
  },
  {
   "cell_type": "code",
   "execution_count": 23,
   "id": "a70df3d5-2871-4759-99d7-a6d99ff4f568",
   "metadata": {},
   "outputs": [
    {
     "name": "stdout",
     "output_type": "stream",
     "text": [
      "1.618033988749895\n"
     ]
    }
   ],
   "source": [
    "import math\n",
    "print((1+math.sqrt(5))/2)"
   ]
  },
  {
   "cell_type": "code",
   "execution_count": 24,
   "id": "1858b29e-bc32-4778-ac49-fa301a80200e",
   "metadata": {},
   "outputs": [
    {
     "name": "stdout",
     "output_type": "stream",
     "text": [
      "1.618033988749895\n"
     ]
    }
   ],
   "source": [
    "print((1+(5**0.5))/2)"
   ]
  },
  {
   "cell_type": "code",
   "execution_count": 25,
   "id": "a7279ed4-9c98-4b68-bcb7-783a9b5f9e7d",
   "metadata": {},
   "outputs": [
    {
     "name": "stdout",
     "output_type": "stream",
     "text": [
      "0.5\n",
      "0.5\n",
      "0.5\n",
      "3\n",
      "3.1415926\n",
      "True\n",
      "False\n"
     ]
    }
   ],
   "source": [
    "print(1.0/2.0)\n",
    "print(1/2)\n",
    "print(float(1)/float(2))\n",
    "print(int(3.1415926))\n",
    "print(str(3.1415926))\n",
    "print(bool(1))\n",
    "print(bool(0))"
   ]
  },
  {
   "cell_type": "code",
   "execution_count": 27,
   "id": "4250634a-90f8-45f1-8630-e0f31a3a77e6",
   "metadata": {},
   "outputs": [
    {
     "data": {
      "text/plain": [
       "'54315'"
      ]
     },
     "execution_count": 27,
     "metadata": {},
     "output_type": "execute_result"
    }
   ],
   "source": [
    "format(54315,'d')"
   ]
  },
  {
   "cell_type": "raw",
   "id": "9712ff6d-067b-413f-b49a-c00bbe55cb62",
   "metadata": {},
   "source": [
    "----------------------------------------------------------------List-------------------------------------------------------------"
   ]
  },
  {
   "cell_type": "raw",
   "id": "29777678-4ae0-416c-9b64-bb9526b6710b",
   "metadata": {},
   "source": [
    "Clist=[\"Satya\",\"Soumya\",\"Anwesh\",\"Debasish\",\"Subrata\",\"Aroopsa\",\"Anisha\"]\n",
    "print(Clist)"
   ]
  },
  {
   "cell_type": "code",
   "execution_count": 34,
   "id": "5a7c4384-9cae-44d6-9a0b-cf174b1419f2",
   "metadata": {},
   "outputs": [
    {
     "name": "stdout",
     "output_type": "stream",
     "text": [
      "Debasish\n"
     ]
    }
   ],
   "source": [
    "print(Clist[3])"
   ]
  },
  {
   "cell_type": "code",
   "execution_count": 36,
   "id": "217880ed-4b9b-4c7d-a023-4c8914a408c4",
   "metadata": {},
   "outputs": [
    {
     "name": "stdout",
     "output_type": "stream",
     "text": [
      "['Anisha', 'Aroopsa', 'Subrata', 'Debasish', 'Anwesh', 'Soumya', 'Satya']\n"
     ]
    }
   ],
   "source": [
    "print(Clist[::-1])"
   ]
  },
  {
   "cell_type": "code",
   "execution_count": 37,
   "id": "63813070-37e5-41cc-a746-409d7fdb3789",
   "metadata": {},
   "outputs": [
    {
     "name": "stdout",
     "output_type": "stream",
     "text": [
      "['Anwesh', 'Debasish']\n"
     ]
    }
   ],
   "source": [
    "print(Clist[2:4])"
   ]
  },
  {
   "cell_type": "code",
   "execution_count": 38,
   "id": "2008b382-ece3-4fb7-bc7b-25471917cac6",
   "metadata": {},
   "outputs": [
    {
     "data": {
      "text/plain": [
       "7"
      ]
     },
     "execution_count": 38,
     "metadata": {},
     "output_type": "execute_result"
    }
   ],
   "source": [
    "len(Clist)"
   ]
  },
  {
   "cell_type": "code",
   "execution_count": 81,
   "id": "a92fcc99-f976-48ba-a726-e0348c481b88",
   "metadata": {},
   "outputs": [
    {
     "name": "stdout",
     "output_type": "stream",
     "text": [
      "[]\n"
     ]
    }
   ],
   "source": [
    "init_list=[]\n",
    "print(init_list)"
   ]
  },
  {
   "cell_type": "code",
   "execution_count": 82,
   "id": "36f51048-37e2-4297-9349-9abcbd48b1cf",
   "metadata": {},
   "outputs": [
    {
     "name": "stdout",
     "output_type": "stream",
     "text": [
      "['R', 'Python', 'SAS', 'Scala', 42]\n"
     ]
    }
   ],
   "source": [
    "DA_lang=['R', 'Python', 'SAS', 'Scala', 42]\n",
    "print(DA_lang)"
   ]
  },
  {
   "cell_type": "code",
   "execution_count": 83,
   "id": "d560f930-d07c-43a4-a05d-720feada4259",
   "metadata": {},
   "outputs": [
    {
     "name": "stdout",
     "output_type": "stream",
     "text": [
      "R\n"
     ]
    }
   ],
   "source": [
    "print(DA_lang[0])"
   ]
  },
  {
   "cell_type": "code",
   "execution_count": 85,
   "id": "433362b2-4e5c-468c-856c-e8e22be21249",
   "metadata": {},
   "outputs": [
    {
     "name": "stdout",
     "output_type": "stream",
     "text": [
      "['Python', 'SAS']\n"
     ]
    }
   ],
   "source": [
    "print(DA_lang[1:3])"
   ]
  },
  {
   "cell_type": "code",
   "execution_count": 89,
   "id": "39195096-bbe9-406b-860b-a90681dbb235",
   "metadata": {},
   "outputs": [
    {
     "name": "stdout",
     "output_type": "stream",
     "text": [
      "[42, 'Scala', 'SAS', 'Python', 'R']\n"
     ]
    }
   ],
   "source": [
    "print(DA_lang[::-1])"
   ]
  },
  {
   "cell_type": "raw",
   "id": "6da2a415-8871-44df-8828-31fb105c8fbd",
   "metadata": {},
   "source": [
    "-------------------------------------------------------------Tuple--------------------------------------------------------------"
   ]
  },
  {
   "cell_type": "code",
   "execution_count": 40,
   "id": "c8620860-4d6f-4f49-aa3e-843fa2a78d84",
   "metadata": {},
   "outputs": [
    {
     "name": "stdout",
     "output_type": "stream",
     "text": [
      "('Satya', 'Soumya', 'Anwesh', 'Debasish', 'Subrata', 'Aroopsa', 'Anisha')\n"
     ]
    }
   ],
   "source": [
    "Ctuple=(\"Satya\",\"Soumya\",\"Anwesh\",\"Debasish\",\"Subrata\",\"Aroopsa\",\"Anisha\")\n",
    "print(Ctuple)"
   ]
  },
  {
   "cell_type": "code",
   "execution_count": 41,
   "id": "a90039d6-a372-4c98-9ca3-5532d554ae4b",
   "metadata": {},
   "outputs": [
    {
     "name": "stdout",
     "output_type": "stream",
     "text": [
      "('Anwesh', 'Debasish')\n"
     ]
    }
   ],
   "source": [
    "print(Ctuple[2:4])"
   ]
  },
  {
   "cell_type": "code",
   "execution_count": 42,
   "id": "f2673143-ae06-4c8e-bd01-2847752c32ca",
   "metadata": {},
   "outputs": [
    {
     "data": {
      "text/plain": [
       "7"
      ]
     },
     "execution_count": 42,
     "metadata": {},
     "output_type": "execute_result"
    }
   ],
   "source": [
    "len(Ctuple)"
   ]
  },
  {
   "cell_type": "code",
   "execution_count": 64,
   "id": "4d6fe840-2245-4832-a65d-376b9966c80c",
   "metadata": {},
   "outputs": [
    {
     "name": "stdout",
     "output_type": "stream",
     "text": [
      "Subrata Kumar Sahu\n"
     ]
    }
   ],
   "source": [
    "first_tuple=(\"Subrata Kumar Sahu\", 40, \"Konisi\")\n",
    "print(first_tupple[0])"
   ]
  },
  {
   "cell_type": "code",
   "execution_count": 68,
   "id": "cc3ad57e-8b6d-4ee5-af0c-b1e4ca17af3d",
   "metadata": {},
   "outputs": [
    {
     "name": "stdout",
     "output_type": "stream",
     "text": [
      "('Berhampur', 85.26145, 72.164894)\n"
     ]
    }
   ],
   "source": [
    "City_tuple=(\"Berhampur\", 85.26145, 72.164894)\n",
    "print(City_tupple)"
   ]
  },
  {
   "cell_type": "code",
   "execution_count": 77,
   "id": "e02d66e9-d8ee-4bb1-9b20-89bbfe6ceda1",
   "metadata": {},
   "outputs": [
    {
     "name": "stdout",
     "output_type": "stream",
     "text": [
      "('Berhampur', 85.26145, 72.164894)\n"
     ]
    }
   ],
   "source": [
    "new_tuple=City_tuple\n",
    "print(new_tuple)"
   ]
  },
  {
   "cell_type": "code",
   "execution_count": 74,
   "id": "be8112b8-3318-4faf-8421-c838e88ff110",
   "metadata": {},
   "outputs": [
    {
     "name": "stdout",
     "output_type": "stream",
     "text": [
      "['Berhampur', 85.26145, 72.164894]\n"
     ]
    }
   ],
   "source": [
    "new_list=[]\n",
    "for i in new_tuple:\n",
    "    new_list.append(i)\n",
    "print(new_list)"
   ]
  },
  {
   "cell_type": "code",
   "execution_count": 80,
   "id": "541c85d3-414c-4319-83c4-eb6aa1f21f7f",
   "metadata": {},
   "outputs": [
    {
     "name": "stdout",
     "output_type": "stream",
     "text": [
      "72.164894\n"
     ]
    }
   ],
   "source": [
    "print(new_list[2])"
   ]
  },
  {
   "cell_type": "code",
   "execution_count": 79,
   "id": "3f5c846f-653e-4644-a17d-550c2dd55fe0",
   "metadata": {},
   "outputs": [
    {
     "name": "stdout",
     "output_type": "stream",
     "text": [
      "(72.164894, 85.26145, 'Berhampur')\n",
      "3\n"
     ]
    }
   ],
   "source": [
    "b=City_tuple[::-1]\n",
    "print(b)\n",
    "print(len(b))"
   ]
  },
  {
   "cell_type": "code",
   "execution_count": 86,
   "id": "7640d1da-a6a9-415f-b108-5bfd65850a72",
   "metadata": {},
   "outputs": [
    {
     "name": "stdout",
     "output_type": "stream",
     "text": [
      "c is : [72.164894, 85.26145, 'Berhampur']\n",
      "c is now a tuple : (72.164894, 85.26145, 'Berhampur')\n"
     ]
    }
   ],
   "source": [
    "c=list(b)\n",
    "print(\"c is : {0}\".format(c))\n",
    "c=tuple(c)\n",
    "print(\"c is now a tuple : {0}\".format(c))"
   ]
  },
  {
   "cell_type": "raw",
   "id": "cbd0ab4d-2657-4d56-a3be-2a511d8690bc",
   "metadata": {},
   "source": [
    "--------------------------------------------------------------Set----------------------------------------------------------------"
   ]
  },
  {
   "cell_type": "raw",
   "id": "c8c3053e-83de-406f-9023-851942b7d640",
   "metadata": {},
   "source": [
    "Define an Array of size 10 and add 10 strings of size 3 characters and append 5 more."
   ]
  },
  {
   "cell_type": "code",
   "execution_count": 15,
   "id": "bcf2fcc4-53b7-4af4-938b-e985830c7eab",
   "metadata": {},
   "outputs": [
    {
     "name": "stdout",
     "output_type": "stream",
     "text": [
      "['abc', 'bcd', 'cde', 'def', 'efg', 'fgh', 'ghi', 'hij', 'ijk', 'jkl']\n",
      "['nji', 'jui', 'lmj', 'ihi']\n",
      "['abc', 'bcd', 'cde', 'def', 'efg', 'fgh', 'ghi', 'hij', 'ijk', 'jkl', 'nji', 'jui', 'lmj', 'ihi']\n",
      "['abc', 'bcd', 'cde', 'def', 'efg', 'fgh', 'ghi', 'hij', 'ijk', 'jkl', 'nji', 'jui', 'lmj', 'ihi', 'jui']\n"
     ]
    }
   ],
   "source": [
    "l=[\"abc\", \"bcd\", \"cde\", \"def\", \"efg\", \"fgh\", \"ghi\", \"hij\", \"ijk\", \"jkl\"]\n",
    "print(l)\n",
    "x=[\"nji\", \"jui\", \"lmj\", \"ihi\"]\n",
    "print(x)\n",
    "for i in x:\n",
    "    l.append(i)\n",
    "print(l)\n",
    "l.insert(14, \"jui\")\n",
    "print(l)"
   ]
  },
  {
   "cell_type": "code",
   "execution_count": 37,
   "id": "52ba49ba-af8b-4886-95d8-04f6228792b1",
   "metadata": {},
   "outputs": [
    {
     "name": "stdout",
     "output_type": "stream",
     "text": [
      "{'Soumya', 'Subrata', 'Aroopsa', 'Anwesh', 'Anisha', 'Debasish', 'Satya'}\n"
     ]
    }
   ],
   "source": [
    "Cset={\"Satya\",\"Soumya\",\"Anwesh\",\"Debasish\",\"Subrata\",\"Aroopsa\",\"Anisha\"}\n",
    "print(Cset)"
   ]
  },
  {
   "cell_type": "code",
   "execution_count": 38,
   "id": "2eed159e-0bb5-4264-b1b0-0df02a97ab49",
   "metadata": {},
   "outputs": [
    {
     "name": "stdout",
     "output_type": "stream",
     "text": [
      "Soumya\n",
      "Subrata\n",
      "Aroopsa\n",
      "Anwesh\n",
      "Anisha\n",
      "Debasish\n",
      "Satya\n"
     ]
    }
   ],
   "source": [
    "for x in Cset:\n",
    "    print(x)"
   ]
  },
  {
   "cell_type": "code",
   "execution_count": 39,
   "id": "608f3ec7-0de6-49b0-87ae-6ac1c0d247ae",
   "metadata": {},
   "outputs": [
    {
     "name": "stdout",
     "output_type": "stream",
     "text": [
      "{'Soumya', 'Subrata', 'Manas', 'Aroopsa', 'Anwesh', 'Anisha', 'Debasish', 'Satya'}\n"
     ]
    }
   ],
   "source": [
    "Cset.add(\"Manas\")\n",
    "print(Cset)"
   ]
  },
  {
   "cell_type": "code",
   "execution_count": 42,
   "id": "db512839-d2b4-4e52-a69f-fed30b664247",
   "metadata": {},
   "outputs": [
    {
     "name": "stdout",
     "output_type": "stream",
     "text": [
      "{'Anuvav', 'Subrata', 'Manas', 'Aroopsa', 'Satya', 'Soumya', 'Anwesh', 'Anisha', 'Debasish', 'Arav'}\n"
     ]
    }
   ],
   "source": [
    "Cset.update({\"Arav\", \"Anuvav\"})\n",
    "print(Cset)"
   ]
  },
  {
   "cell_type": "code",
   "execution_count": 41,
   "id": "2ea86dc1-5b1b-4c8a-97ad-21a0b83cbbf0",
   "metadata": {},
   "outputs": [
    {
     "name": "stdout",
     "output_type": "stream",
     "text": [
      "{'Anuvav', 'Subrata', 'Manas', 'Aroopsa', 'Satya', 'Soumya', 'Anwesh', 'Anisha', 'Debasish'}\n"
     ]
    }
   ],
   "source": [
    "Cset.remove(\"Arav\")\n",
    "print(Cset)"
   ]
  },
  {
   "cell_type": "code",
   "execution_count": 43,
   "id": "a8c0ebe4-9d7f-4da5-827c-5fd02c1fca83",
   "metadata": {},
   "outputs": [
    {
     "name": "stdout",
     "output_type": "stream",
     "text": [
      "{'Anuvav', 'Subrata', 'Manas', 'Aroopsa', 'Satya', 'Soumya', 'Anwesh', 'Anisha', 'Debasish'}\n"
     ]
    }
   ],
   "source": [
    "Cset.discard(\"Arav\")\n",
    "print(Cset)"
   ]
  },
  {
   "cell_type": "code",
   "execution_count": 45,
   "id": "7fc124e3-4f0c-4535-b303-acf257be956f",
   "metadata": {},
   "outputs": [
    {
     "name": "stdout",
     "output_type": "stream",
     "text": [
      "Anuvav\n"
     ]
    }
   ],
   "source": [
    "x=Cset.pop()\n",
    "print(x)"
   ]
  },
  {
   "cell_type": "code",
   "execution_count": 46,
   "id": "3f19889d-8036-4a7d-b66c-7c3703bbc650",
   "metadata": {},
   "outputs": [
    {
     "data": {
      "text/plain": [
       "8"
      ]
     },
     "execution_count": 46,
     "metadata": {},
     "output_type": "execute_result"
    }
   ],
   "source": [
    "len(Cset)"
   ]
  },
  {
   "cell_type": "raw",
   "id": "9e46ae3f-e6ac-4c9e-997a-f89b8e96b67c",
   "metadata": {},
   "source": [
    "----------------------------------------------------------------Dictionary-------------------------------------------------------"
   ]
  },
  {
   "cell_type": "code",
   "execution_count": 53,
   "id": "c6f28df3-c19a-4771-b5b3-b96e6154dfe4",
   "metadata": {},
   "outputs": [
    {
     "name": "stdout",
     "output_type": "stream",
     "text": [
      "{'College': 'NIST', 'Branch': 'CSE', 'Year': '2021'}\n"
     ]
    }
   ],
   "source": [
    "Cdic={\"College\":\"NIST\", \"Branch\":\"CSE\", \"Year\":\"2021\"}\n",
    "print(Cdic)"
   ]
  },
  {
   "cell_type": "code",
   "execution_count": 54,
   "id": "c700c9aa-a5e9-4708-af75-ed1ddc6bf16c",
   "metadata": {},
   "outputs": [
    {
     "name": "stdout",
     "output_type": "stream",
     "text": [
      "NIST\n",
      "CSE\n",
      "2021\n"
     ]
    }
   ],
   "source": [
    "for key in Cdic:\n",
    "    print(Cdic[key])"
   ]
  },
  {
   "cell_type": "code",
   "execution_count": 78,
   "id": "2a3a3e38-a928-479a-87a7-d90250845c26",
   "metadata": {},
   "outputs": [
    {
     "name": "stdout",
     "output_type": "stream",
     "text": [
      "72.164894\n"
     ]
    }
   ],
   "source": [
    "print(new_tuple[2])"
   ]
  },
  {
   "cell_type": "code",
   "execution_count": 56,
   "id": "1ef3e628-1c39-46aa-8956-58c16e4482c6",
   "metadata": {},
   "outputs": [
    {
     "name": "stdout",
     "output_type": "stream",
     "text": [
      "CSE\n"
     ]
    }
   ],
   "source": [
    "print(Cdic.get(\"Branch\"))"
   ]
  },
  {
   "cell_type": "raw",
   "id": "3eabf548-8ca3-43a7-8cdb-17fc795ad3bb",
   "metadata": {},
   "source": [
    "Use of Difference in SET"
   ]
  },
  {
   "cell_type": "code",
   "execution_count": 57,
   "id": "ebbf2257-f537-494e-b882-bf6971332530",
   "metadata": {},
   "outputs": [
    {
     "name": "stdout",
     "output_type": "stream",
     "text": [
      "set()\n",
      "{'e'}\n",
      "{'e'}\n",
      "{'e'}\n",
      "e\n"
     ]
    }
   ],
   "source": [
    "str1='abcd'\n",
    "str2='eacbd'\n",
    "set1=set(str1)\n",
    "set2=set(str2)\n",
    "print(set1.difference(set2))\n",
    "print(set2.difference(set1))\n",
    "print(set1.symmetric_difference(set2))\n",
    "print(set2.symmetric_difference(set1))\n",
    "res=set1.symmetric_difference(set2)\n",
    "for i in res:\n",
    "    print(i)"
   ]
  },
  {
   "cell_type": "code",
   "execution_count": 1,
   "id": "f759fde8-1ae4-4eae-9036-e590a001f0e7",
   "metadata": {},
   "outputs": [
    {
     "name": "stdout",
     "output_type": "stream",
     "text": [
      "1 2 3 4 5 "
     ]
    }
   ],
   "source": [
    "for i in range(1, 6):\n",
    "    print(i, end=\" \")"
   ]
  },
  {
   "cell_type": "code",
   "execution_count": 3,
   "id": "f965fce0-a941-4e90-a570-4548e5c515bf",
   "metadata": {},
   "outputs": [
    {
     "name": "stdout",
     "output_type": "stream",
     "text": [
      "I\n",
      "like\n",
      "Python\n",
      "very\n",
      "much\n"
     ]
    }
   ],
   "source": [
    "Str=\"I like Python very much\"\n",
    "for i in Str.split():\n",
    "    print(i)"
   ]
  },
  {
   "cell_type": "code",
   "execution_count": 14,
   "id": "1f1e71cb-88fd-410c-9545-2d6812f9e628",
   "metadata": {},
   "outputs": [
    {
     "name": "stdout",
     "output_type": "stream",
     "text": [
      "\n",
      " * \n",
      " *  * \n",
      " *  *  * \n",
      " *  *  *  * \n",
      " *  *  *  *  * \n",
      " *  *  *  * \n",
      " *  *  * \n",
      " *  * \n",
      " * \n"
     ]
    }
   ],
   "source": [
    "for i in range(0, 5):\n",
    "    print(\" * \" *i)\n",
    "for i in range(5, 0, -1):\n",
    "    print(\" * \" *i)"
   ]
  },
  {
   "cell_type": "code",
   "execution_count": null,
   "id": "e4af5a1d-4ecf-40b7-acec-c2a8c3af8637",
   "metadata": {},
   "outputs": [],
   "source": []
  }
 ],
 "metadata": {
  "kernelspec": {
   "display_name": "Python 3 (ipykernel)",
   "language": "python",
   "name": "python3"
  },
  "language_info": {
   "codemirror_mode": {
    "name": "ipython",
    "version": 3
   },
   "file_extension": ".py",
   "mimetype": "text/x-python",
   "name": "python",
   "nbconvert_exporter": "python",
   "pygments_lexer": "ipython3",
   "version": "3.11.7"
  }
 },
 "nbformat": 4,
 "nbformat_minor": 5
}
