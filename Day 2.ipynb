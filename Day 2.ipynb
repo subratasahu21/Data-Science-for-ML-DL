{
 "cells": [
  {
   "cell_type": "code",
   "execution_count": 7,
   "id": "597cbe62-01d6-4f19-940c-d929d185c663",
   "metadata": {},
   "outputs": [
    {
     "name": "stdout",
     "output_type": "stream",
     "text": [
      "{'College': 'NIST', 'Branch': 'CSE', 'Year': '2021', 'Name': 'Subrata'}\n"
     ]
    }
   ],
   "source": [
    "Cdic={\"College\":\"NIST\", \"Branch\":\"CSE\", \"Year\":\"2021\", \"Name\":\"Subrata\"}\n",
    "print(Cdic)"
   ]
  },
  {
   "cell_type": "code",
   "execution_count": 10,
   "id": "8a1219a6-5f6f-4f09-affd-b2270a87adbb",
   "metadata": {},
   "outputs": [
    {
     "name": "stdout",
     "output_type": "stream",
     "text": [
      "{'College': 'NIST', 'Year': '2021', 'Name': 'Subrata'}\n"
     ]
    }
   ],
   "source": [
    "del Cdic[\"Branch\"]\n",
    "print(Cdic)"
   ]
  },
  {
   "cell_type": "code",
   "execution_count": 3,
   "id": "e9a0a120-e5ef-497f-b1a4-cdc339fdc536",
   "metadata": {},
   "outputs": [
    {
     "name": "stdout",
     "output_type": "stream",
     "text": [
      "{}\n"
     ]
    }
   ],
   "source": [
    "Cdic.clear()\n",
    "print(Cdic)"
   ]
  },
  {
   "cell_type": "code",
   "execution_count": 4,
   "id": "73a47b61-35c8-4229-89cd-25cb8ab9399a",
   "metadata": {},
   "outputs": [
    {
     "name": "stdout",
     "output_type": "stream",
     "text": [
      "{'College': 'NIST', 'Branch': 'CSE', 'Year': '2021'}\n"
     ]
    }
   ],
   "source": [
    "Cdic={\"College\":\"NIST\", \"Branch\":\"CSE\", \"Year\":\"2021\"}\n",
    "print(Cdic)"
   ]
  },
  {
   "cell_type": "code",
   "execution_count": 11,
   "id": "3b976828-0fd6-46ce-825c-2358a558f4bb",
   "metadata": {},
   "outputs": [
    {
     "name": "stdout",
     "output_type": "stream",
     "text": [
      "{'College': 'NIST', 'Year': '2021', 'Name': 'Subrata'}\n"
     ]
    }
   ],
   "source": [
    "Cdic_Copy=Cdic.copy()\n",
    "print(Cdic_Copy)"
   ]
  },
  {
   "cell_type": "code",
   "execution_count": 12,
   "id": "df1f6dff-744d-4302-a945-49f30d34f519",
   "metadata": {},
   "outputs": [
    {
     "name": "stdout",
     "output_type": "stream",
     "text": [
      "{'College': 'NIST', 'Year': '2021', 'Name': 'Subrata'}\n"
     ]
    }
   ],
   "source": [
    "Cdic_1=Cdic\n",
    "print(Cdic_1)"
   ]
  },
  {
   "cell_type": "code",
   "execution_count": 14,
   "id": "1819ed49-525b-4b15-bf83-a74852ca216d",
   "metadata": {},
   "outputs": [
    {
     "name": "stdout",
     "output_type": "stream",
     "text": [
      "{'Branch1': {'BranchName': 'CSE', 'Year': '2021'}, 'Branch2': {'BranchName': 'ECE', 'Year': '2021'}, 'Branch3': {'BranchName': 'CSE', 'Year': '2022'}}\n"
     ]
    }
   ],
   "source": [
    "Branch_dic={\"Branch1\":{\"BranchName\":\"CSE\", \"Year\":\"2021\"},\"Branch2\":{\"BranchName\":\"ECE\", \"Year\":\"2021\"},\"Branch3\":{\"BranchName\":\"CSE\", \"Year\":\"2022\"}}\n",
    "print(Branch_dic)"
   ]
  },
  {
   "cell_type": "code",
   "execution_count": 19,
   "id": "cbabc052-20ec-4802-8c06-70f567c4d51d",
   "metadata": {},
   "outputs": [
    {
     "name": "stdout",
     "output_type": "stream",
     "text": [
      "{'Branch1': {'BranchName': 'CSE', 'Year': '2021'}, 'Branch2': {'BranchName': 'ECE', 'Year': '2021'}, 'Branch3': {'BranchName': 'CSE', 'Year': '2022'}, 'Branch4': {'BranchName': 'CSE', 'Year': '2023'}}\n"
     ]
    }
   ],
   "source": [
    "Branch_dic[\"Branch4\"]={\"BranchName\":\"CSE\", \"Year\":\"2023\"}\n",
    "print(Branch_dic)"
   ]
  },
  {
   "cell_type": "code",
   "execution_count": 25,
   "id": "14260032-58b8-4007-a606-74530bb2261e",
   "metadata": {},
   "outputs": [
    {
     "name": "stdout",
     "output_type": "stream",
     "text": [
      "Branch1->{'BranchName': 'CSE', 'Year': '2021'}\n",
      "Branch2->{'BranchName': 'ECE', 'Year': '2021'}\n",
      "Branch3->{'BranchName': 'CSE', 'Year': '2022'}\n",
      "Branch4->{'BranchName': 'CSE', 'Year': '2023'}\n"
     ]
    }
   ],
   "source": [
    "for key, value in Branch_dic.items():\n",
    "    print(f\"{key}->{value}\")"
   ]
  },
  {
   "cell_type": "code",
   "execution_count": 27,
   "id": "93f1b833-67e9-41dd-9e76-c3424dfb5c50",
   "metadata": {},
   "outputs": [
    {
     "name": "stdout",
     "output_type": "stream",
     "text": [
      "Hey! My Name is Subrata Kumar Sahu\n"
     ]
    }
   ],
   "source": [
    "x=\" Hey! My Name is Subrata Kumar Sahu \"\n",
    "print(x.strip())"
   ]
  },
  {
   "cell_type": "code",
   "execution_count": 30,
   "id": "7df4a202-cad1-4ce3-bd2e-838c6b1d90c3",
   "metadata": {},
   "outputs": [
    {
     "name": "stdout",
     "output_type": "stream",
     "text": [
      "HEY! MY NAME IS SUBRATA KUMAR SAHU\n"
     ]
    }
   ],
   "source": [
    "print(x.strip().upper())"
   ]
  },
  {
   "cell_type": "code",
   "execution_count": 29,
   "id": "d8d28993-769c-40cb-b726-92cbe5d05bcd",
   "metadata": {},
   "outputs": [
    {
     "name": "stdout",
     "output_type": "stream",
     "text": [
      " hey! my name is subrata kumar sahu \n"
     ]
    }
   ],
   "source": [
    "print(x.lower())"
   ]
  },
  {
   "cell_type": "code",
   "execution_count": 32,
   "id": "9e8d2f1e-c406-4d26-83e2-be3987ce0455",
   "metadata": {},
   "outputs": [
    {
     "name": "stdout",
     "output_type": "stream",
     "text": [
      "He love Python Programming\n"
     ]
    }
   ],
   "source": [
    "x=\"I love Python Programming\"\n",
    "print(x.replace(\"I\", \"He\"))"
   ]
  },
  {
   "cell_type": "code",
   "execution_count": 34,
   "id": "60848818-99a6-4d00-ae79-de7ce4d2bc26",
   "metadata": {},
   "outputs": [
    {
     "name": "stdout",
     "output_type": "stream",
     "text": [
      "True\n"
     ]
    }
   ],
   "source": [
    "Str=\"This is a python programming class\"\n",
    "y=\"pyt\" in Str\n",
    "print(y)"
   ]
  },
  {
   "cell_type": "code",
   "execution_count": 36,
   "id": "26d10f92-bc04-4b71-8bd8-676b71ac98bb",
   "metadata": {},
   "outputs": [
    {
     "name": "stdout",
     "output_type": "stream",
     "text": [
      "True\n"
     ]
    }
   ],
   "source": [
    "y=\"he\" not in Str\n",
    "print(y)"
   ]
  },
  {
   "cell_type": "code",
   "execution_count": 37,
   "id": "ca564855-3abf-4ff2-9330-0e97e4052369",
   "metadata": {},
   "outputs": [
    {
     "name": "stdout",
     "output_type": "stream",
     "text": [
      "subrata@nist.edu\n"
     ]
    }
   ],
   "source": [
    "e_mail=\"subrata\"\n",
    "if \"@\" not in e_mail:\n",
    "    e_mail+=\"@nist.edu\"\n",
    "print(e_mail)"
   ]
  },
  {
   "cell_type": "code",
   "execution_count": 33,
   "id": "b3623f72-7bed-4ef5-88bd-0076ca6f22bd",
   "metadata": {},
   "outputs": [
    {
     "name": "stdout",
     "output_type": "stream",
     "text": [
      "['I', 'love', 'Python', 'Programming']\n"
     ]
    }
   ],
   "source": [
    "print(x.split(\" \"))"
   ]
  },
  {
   "cell_type": "code",
   "execution_count": 38,
   "id": "b2b34c4c-96a1-4e1d-a29e-d190c6042809",
   "metadata": {},
   "outputs": [
    {
     "data": {
      "text/plain": [
       "-1"
      ]
     },
     "execution_count": 38,
     "metadata": {},
     "output_type": "execute_result"
    }
   ],
   "source": [
    "org=\"Organization is in Odisha\"\n",
    "org.find(\"(O)\")"
   ]
  },
  {
   "cell_type": "code",
   "execution_count": 41,
   "id": "cf6e9d6f-8ca8-4d91-bb9d-5a21fc0f07be",
   "metadata": {},
   "outputs": [
    {
     "data": {
      "text/plain": [
       "12"
      ]
     },
     "execution_count": 41,
     "metadata": {},
     "output_type": "execute_result"
    }
   ],
   "source": [
    "org.find(\" \")"
   ]
  },
  {
   "cell_type": "code",
   "execution_count": 42,
   "id": "c3acb32f-cc5b-4a21-b73a-3609e54fc187",
   "metadata": {},
   "outputs": [
    {
     "data": {
      "text/plain": [
       "-1"
      ]
     },
     "execution_count": 42,
     "metadata": {},
     "output_type": "execute_result"
    }
   ],
   "source": [
    "org.find(\".\", 10)"
   ]
  },
  {
   "cell_type": "code",
   "execution_count": 54,
   "id": "9f12e8a8-9690-4f9a-a628-a8338c6d4736",
   "metadata": {},
   "outputs": [
    {
     "name": "stdout",
     "output_type": "stream",
     "text": [
      "Hey, This is just a comment\n",
      " Hey, This is just a comment\n",
      " Hey, This is just a comment\n"
     ]
    }
   ],
   "source": [
    "l=\" Hey, This is just a comment\\n\"\n",
    "print(l.strip())\n",
    "print(l.rstrip())\n",
    "print(l.rstrip(\"\\n\"))"
   ]
  },
  {
   "cell_type": "raw",
   "id": "6613d507-8c3e-4d1d-823c-de3849eb4f85",
   "metadata": {},
   "source": [
    "Function"
   ]
  },
  {
   "cell_type": "code",
   "execution_count": 55,
   "id": "251e5ccc-f133-42b0-9f6c-752f33b2a061",
   "metadata": {},
   "outputs": [],
   "source": [
    "def first_func():\n",
    "    print(\"Hello Everyone!\")"
   ]
  },
  {
   "cell_type": "code",
   "execution_count": 56,
   "id": "cf150ee3-321f-4689-8352-190e79413bac",
   "metadata": {},
   "outputs": [
    {
     "name": "stdout",
     "output_type": "stream",
     "text": [
      "Hello Everyone!\n"
     ]
    }
   ],
   "source": [
    "first_func()"
   ]
  },
  {
   "cell_type": "code",
   "execution_count": 65,
   "id": "df23a5a7-94a3-4e95-93b1-d5478f059aac",
   "metadata": {},
   "outputs": [
    {
     "name": "stdin",
     "output_type": "stream",
     "text": [
      " Subrata\n",
      " Sahu\n"
     ]
    },
    {
     "name": "stdout",
     "output_type": "stream",
     "text": [
      "Name:  Subrata   Sahu\n"
     ]
    }
   ],
   "source": [
    "def first_funct(f_name, l_name):\n",
    "    print(\"Name: \",f_name,\" \",l_name)\n",
    "f=input()\n",
    "l=input()\n",
    "first_funct(f, l)"
   ]
  },
  {
   "cell_type": "code",
   "execution_count": 66,
   "id": "f205ac3d-aef4-4524-bee2-00d78a70c40c",
   "metadata": {},
   "outputs": [
    {
     "name": "stdout",
     "output_type": "stream",
     "text": [
      "Multiple of numbers:  3628800\n"
     ]
    }
   ],
   "source": [
    "def mul(*args):\n",
    "    m=1\n",
    "    for i in args:\n",
    "        m*=i\n",
    "    print(\"Multiple of numbers: \",m)\n",
    "mul(1,2,3,4,5,6,7,8,9,10)"
   ]
  },
  {
   "cell_type": "code",
   "execution_count": 67,
   "id": "7ada83e3-8819-46d3-be59-53f1d21a9494",
   "metadata": {},
   "outputs": [
    {
     "name": "stdout",
     "output_type": "stream",
     "text": [
      "Favorite Subject is:  Data Science\n"
     ]
    }
   ],
   "source": [
    "def F_func(**sub):\n",
    "    print(\"Favorite Subject is: \",sub[\"subject2\"])\n",
    "F_func(subject1=\"CNDC\", subject2=\"Data Science\")"
   ]
  },
  {
   "cell_type": "code",
   "execution_count": 68,
   "id": "a8d84487-db5e-4d76-94df-92c70ece7323",
   "metadata": {},
   "outputs": [
    {
     "name": "stdout",
     "output_type": "stream",
     "text": [
      "25\n",
      "64\n",
      "100\n"
     ]
    }
   ],
   "source": [
    "def sq_func(x):\n",
    "    return x**2\n",
    "print(sq_func(5))\n",
    "print(sq_func(8))\n",
    "print(sq_func(10))"
   ]
  },
  {
   "cell_type": "code",
   "execution_count": null,
   "id": "3ef7fead-0f9b-4076-9c6b-aa73be854aff",
   "metadata": {},
   "outputs": [],
   "source": []
  },
  {
   "cell_type": "markdown",
   "id": "db9c946b-4be6-439c-a955-8792aadbd5e7",
   "metadata": {},
   "source": [
    "def isprime(n):\n",
    "    p=0\n",
    "    for i in range(1, n+1):\n",
    "        if(n%i==0):\n",
    "            p+=1\n",
    "    if(n==1):\n",
    "        print(\"It is a Prime Number\")\n",
    "    elif(p==2):\n",
    "        print(\"It is a Prime Number\")\n",
    "    else:\n",
    "        print(\"Not a Prime Number\")\n",
    "n=int(input(\"Enter the Number: \"))\n",
    "isprime(n)"
   ]
  },
  {
   "cell_type": "code",
   "execution_count": 118,
   "id": "8bfda16e-fd38-4b78-ad91-c28013b08dc9",
   "metadata": {},
   "outputs": [
    {
     "name": "stdout",
     "output_type": "stream",
     "text": [
      "0\n",
      "1\n",
      "1\n",
      "2\n",
      "3\n",
      "5\n",
      "8\n",
      "13\n",
      "21\n",
      "34\n"
     ]
    }
   ],
   "source": [
    "def fib(x):\n",
    "    if x==0:\n",
    "        return 0\n",
    "    elif x==1:\n",
    "        return 1\n",
    "    else:\n",
    "        return fib(x-1)+fib(x-2)\n",
    "for i in range(10):\n",
    "    print(fib(i))"
   ]
  },
  {
   "cell_type": "code",
   "execution_count": 122,
   "id": "fcb5a61a-b6c0-4103-9630-6a2cf2f87139",
   "metadata": {},
   "outputs": [
    {
     "name": "stdout",
     "output_type": "stream",
     "text": [
      "Odisha\n"
     ]
    }
   ],
   "source": [
    "import my_mod\n",
    "print(my_mod.Citizen[\"State\"])"
   ]
  },
  {
   "cell_type": "code",
   "execution_count": 123,
   "id": "b57e4534-d73e-415e-9f21-fa9464ba1b3a",
   "metadata": {},
   "outputs": [],
   "source": [
    "import math"
   ]
  },
  {
   "cell_type": "code",
   "execution_count": 124,
   "id": "06c5cc1f-2469-412d-b8b3-a4ae2f069188",
   "metadata": {},
   "outputs": [
    {
     "data": {
      "text/plain": [
       "3.141592653589793"
      ]
     },
     "execution_count": 124,
     "metadata": {},
     "output_type": "execute_result"
    }
   ],
   "source": [
    "math.pi"
   ]
  },
  {
   "cell_type": "code",
   "execution_count": 125,
   "id": "61a56832-7348-47eb-b24b-df9fac9e812c",
   "metadata": {},
   "outputs": [
    {
     "data": {
      "text/plain": [
       "1.0"
      ]
     },
     "execution_count": 125,
     "metadata": {},
     "output_type": "execute_result"
    }
   ],
   "source": [
    "math.cos(0)"
   ]
  },
  {
   "cell_type": "code",
   "execution_count": 126,
   "id": "81709102-dd82-4147-a594-9b49a25a59fc",
   "metadata": {},
   "outputs": [
    {
     "data": {
      "text/plain": [
       "-1.0"
      ]
     },
     "execution_count": 126,
     "metadata": {},
     "output_type": "execute_result"
    }
   ],
   "source": [
    "math.cos(math.pi)"
   ]
  },
  {
   "cell_type": "code",
   "execution_count": 127,
   "id": "58aab392-5f9d-4bce-87ea-5fdb7415efb7",
   "metadata": {},
   "outputs": [
    {
     "data": {
      "text/plain": [
       "['__doc__',\n",
       " '__loader__',\n",
       " '__name__',\n",
       " '__package__',\n",
       " '__spec__',\n",
       " 'acos',\n",
       " 'acosh',\n",
       " 'asin',\n",
       " 'asinh',\n",
       " 'atan',\n",
       " 'atan2',\n",
       " 'atanh',\n",
       " 'cbrt',\n",
       " 'ceil',\n",
       " 'comb',\n",
       " 'copysign',\n",
       " 'cos',\n",
       " 'cosh',\n",
       " 'degrees',\n",
       " 'dist',\n",
       " 'e',\n",
       " 'erf',\n",
       " 'erfc',\n",
       " 'exp',\n",
       " 'exp2',\n",
       " 'expm1',\n",
       " 'fabs',\n",
       " 'factorial',\n",
       " 'floor',\n",
       " 'fmod',\n",
       " 'frexp',\n",
       " 'fsum',\n",
       " 'gamma',\n",
       " 'gcd',\n",
       " 'hypot',\n",
       " 'inf',\n",
       " 'isclose',\n",
       " 'isfinite',\n",
       " 'isinf',\n",
       " 'isnan',\n",
       " 'isqrt',\n",
       " 'lcm',\n",
       " 'ldexp',\n",
       " 'lgamma',\n",
       " 'log',\n",
       " 'log10',\n",
       " 'log1p',\n",
       " 'log2',\n",
       " 'modf',\n",
       " 'nan',\n",
       " 'nextafter',\n",
       " 'perm',\n",
       " 'pi',\n",
       " 'pow',\n",
       " 'prod',\n",
       " 'radians',\n",
       " 'remainder',\n",
       " 'sin',\n",
       " 'sinh',\n",
       " 'sqrt',\n",
       " 'tan',\n",
       " 'tanh',\n",
       " 'tau',\n",
       " 'trunc',\n",
       " 'ulp']"
      ]
     },
     "execution_count": 127,
     "metadata": {},
     "output_type": "execute_result"
    }
   ],
   "source": [
    "dir(math)"
   ]
  },
  {
   "cell_type": "code",
   "execution_count": 128,
   "id": "07e18f6c-cee7-4654-a262-52e88d7e290d",
   "metadata": {},
   "outputs": [],
   "source": [
    "from math import cos, pi"
   ]
  },
  {
   "cell_type": "code",
   "execution_count": 131,
   "id": "a7f0f973-63da-4dba-be8b-27b38833aa15",
   "metadata": {},
   "outputs": [
    {
     "name": "stdout",
     "output_type": "stream",
     "text": [
      "5 4 3 2 1 "
     ]
    }
   ],
   "source": [
    "for i in range(5, 0, -1):\n",
    "    print(i, end=\" \")"
   ]
  },
  {
   "cell_type": "code",
   "execution_count": 134,
   "id": "bad82164-59b2-405d-a819-9fac934cecce",
   "metadata": {},
   "outputs": [
    {
     "name": "stdout",
     "output_type": "stream",
     "text": [
      "0 2 4 6 8 "
     ]
    }
   ],
   "source": [
    "for i in range(0, 10, 2):\n",
    "    print(i, end=\" \")"
   ]
  },
  {
   "cell_type": "raw",
   "id": "83ca8fac-a04b-43a4-9b55-19ede2bd79de",
   "metadata": {},
   "source": [
    "String"
   ]
  },
  {
   "cell_type": "code",
   "execution_count": 135,
   "id": "df40d49a-5616-4430-99d1-64458bc033f9",
   "metadata": {},
   "outputs": [
    {
     "name": "stdout",
     "output_type": "stream",
     "text": [
      "s\n",
      "t\n",
      "r\n",
      "The end\n"
     ]
    }
   ],
   "source": [
    "for val in \"string\":\n",
    "    if val==\"i\":\n",
    "        break\n",
    "    print(val)\n",
    "print(\"The end\")"
   ]
  },
  {
   "cell_type": "code",
   "execution_count": 136,
   "id": "fdbbc59d-bb8e-4837-b92f-2cf5c81c87bc",
   "metadata": {},
   "outputs": [
    {
     "name": "stdout",
     "output_type": "stream",
     "text": [
      "s\n",
      "t\n",
      "r\n",
      "n\n",
      "g\n",
      "The end\n"
     ]
    }
   ],
   "source": [
    "for val in \"string\":\n",
    "    if val==\"i\":\n",
    "        continue\n",
    "    print(val)\n",
    "print(\"The end\")"
   ]
  },
  {
   "cell_type": "code",
   "execution_count": 141,
   "id": "34420341-0004-45a3-b0b7-3a82da93b80c",
   "metadata": {},
   "outputs": [
    {
     "name": "stdout",
     "output_type": "stream",
     "text": [
      "<zip object at 0x00000264455AE100>\n"
     ]
    }
   ],
   "source": [
    "name=[\"Subrata\", \"Satya\", \"Soumya\"]\n",
    "Age=[45, 35, 26]\n",
    "t=zip(name, Age)\n",
    "print(t)"
   ]
  },
  {
   "cell_type": "code",
   "execution_count": 144,
   "id": "1071f1a4-6bb0-4ada-ba98-87a45ec8d149",
   "metadata": {},
   "outputs": [
    {
     "name": "stdout",
     "output_type": "stream",
     "text": [
      "SubrataKumarSahu\n"
     ]
    }
   ],
   "source": [
    "f=\"Subrata\"\n",
    "m=\"Kumar\"\n",
    "l=\"Sahu\"\n",
    "print(f+m+l)"
   ]
  },
  {
   "cell_type": "code",
   "execution_count": 146,
   "id": "98d74b7c-66e4-43c0-b934-eb41880a8056",
   "metadata": {},
   "outputs": [
    {
     "name": "stdout",
     "output_type": "stream",
     "text": [
      "SubrataSubrataSubrataSubrata\n"
     ]
    }
   ],
   "source": [
    "print(4*f)"
   ]
  },
  {
   "cell_type": "code",
   "execution_count": 148,
   "id": "acdb274a-ecfd-4828-916d-528bc8c0fb8c",
   "metadata": {},
   "outputs": [
    {
     "name": "stdout",
     "output_type": "stream",
     "text": [
      "\n"
     ]
    }
   ],
   "source": [
    "print(f*-2)"
   ]
  },
  {
   "cell_type": "raw",
   "id": "59805b4d-2f08-4115-8201-953e437fd617",
   "metadata": {},
   "source": [
    "File Handling"
   ]
  },
  {
   "cell_type": "code",
   "execution_count": 5,
   "id": "2d9ea7f5-396a-49c8-862e-dc73a2823ad8",
   "metadata": {},
   "outputs": [
    {
     "name": "stdout",
     "output_type": "stream",
     "text": [
      "Hello World!\n"
     ]
    }
   ],
   "source": [
    "s_file=open('sample_file.txt', 'r')\n",
    "for i in s_file:\n",
    "    print(i)"
   ]
  },
  {
   "cell_type": "code",
   "execution_count": 6,
   "id": "98c432c5-3d34-4683-a4bd-3dbc70fc9bd3",
   "metadata": {},
   "outputs": [
    {
     "data": {
      "text/plain": [
       "<function TextIOWrapper.close()>"
      ]
     },
     "execution_count": 6,
     "metadata": {},
     "output_type": "execute_result"
    }
   ],
   "source": [
    "f=open('sample_file.txt', 'w')\n",
    "f.write(\"This is a Data Science Class\\n\")\n",
    "f.write(\"I am a CSE Student\")\n",
    "f.close"
   ]
  },
  {
   "cell_type": "raw",
   "id": "97785923-890b-45cc-b7a2-9864f6210b05",
   "metadata": {},
   "source": [
    "Eucledian Algorithm"
   ]
  },
  {
   "cell_type": "code",
   "execution_count": 1,
   "id": "e9e31289-364a-4c82-b728-1226aae51211",
   "metadata": {},
   "outputs": [],
   "source": [
    "def gcd(a, b):\n",
    "    while b!=0:\n",
    "        a,b=b,a%b\n",
    "    return a"
   ]
  },
  {
   "cell_type": "code",
   "execution_count": 2,
   "id": "c9947998-241c-4785-b0e0-6446e98f32f2",
   "metadata": {},
   "outputs": [
    {
     "name": "stdout",
     "output_type": "stream",
     "text": [
      "6\n"
     ]
    }
   ],
   "source": [
    "print(gcd(48, 18))"
   ]
  },
  {
   "cell_type": "code",
   "execution_count": null,
   "id": "f55ff5ca-4988-47d6-ac63-43726e4c2fda",
   "metadata": {},
   "outputs": [],
   "source": []
  }
 ],
 "metadata": {
  "kernelspec": {
   "display_name": "Python 3 (ipykernel)",
   "language": "python",
   "name": "python3"
  },
  "language_info": {
   "codemirror_mode": {
    "name": "ipython",
    "version": 3
   },
   "file_extension": ".py",
   "mimetype": "text/x-python",
   "name": "python",
   "nbconvert_exporter": "python",
   "pygments_lexer": "ipython3",
   "version": "3.11.7"
  }
 },
 "nbformat": 4,
 "nbformat_minor": 5
}
