{
 "cells": [
  {
   "cell_type": "raw",
   "id": "0ff48a59-b45f-435c-a7d5-a5c31fdec447",
   "metadata": {},
   "source": [
    "What is MultiLabelBinarizer?\n"
   ]
  },
  {
   "cell_type": "code",
   "execution_count": 20,
   "id": "d64a8333-98be-48a8-b507-b468603fc21f",
   "metadata": {},
   "outputs": [],
   "source": [
    "import numpy as np\n",
    "from sklearn.pipeline import Pipeline\n",
    "from sklearn.feature_extraction.text import CountVectorizer\n",
    "from sklearn.svm import LinearSVC\n",
    "from sklearn.feature_extraction.text import TfidfTransformer\n",
    "from sklearn.multiclass import OneVsRestClassifier\n",
    "from sklearn.preprocessing import MultiLabelBinarizer\n",
    "\n",
    "X_train=np.array([\n",
    "    \"new york us a hell of a town\",\n",
    "    \"new york was originally dutch\",\n",
    "    \"the big apple is great\",\n",
    "    \"new york is also called the big apple\",\n",
    "    \"nyc is nice\",\n",
    "    \"people abbreviate new york city as nyc\",\n",
    "    \"the capital of the great britain is London\",\n",
    "    \"london is in the UK\",\n",
    "    \"london is in england\",\n",
    "    \"london is in great britain\",\n",
    "    \"it rains a lot in london\",\n",
    "    \"london hosts the british museum\",\n",
    "    \"new york is great and so is london\",\n",
    "    \"i like london better than new york\"\n",
    "])\n",
    "\n",
    "y_train_text=[\n",
    "    [\"new york\"], [\"new york\"], [\"new york\"], [\"new york\"], [\"new york\"], [\"new york\"],\n",
    "    [\"london\"], [\"london\"], [\"london\"], [\"london\"], [\"london\"], [\"london\"], [\"new york\", \"london\"], [\"new york\", \"london\"]\n",
    "]\n",
    "\n",
    "X_text=np.array([\n",
    "    'nice day in nyc',\n",
    "    'welcome to london',\n",
    "    'london is rainy',\n",
    "    'new york is also called the big apple',\n",
    "    'it is raining in britain',\n",
    "    'hello welcome to new york enjoyed here and london too'\n",
    "])\n",
    "\n",
    "target_names=['New York', 'London']\n",
    "\n",
    "mlb=MultiLabelBinarizer()\n",
    "Y=mlb.fit_transform(y_train_text)\n",
    "\n",
    "classifier=Pipeline([\n",
    "    ('vectorizer', CountVectorizer()),\n",
    "    ('tfidf', TfidfTransformer()),\n",
    "    ('clf', OneVsRestClassifier(LinearSVC()))\n",
    "])"
   ]
  },
  {
   "cell_type": "code",
   "execution_count": 21,
   "id": "102c0628-b838-4bcc-91a0-0878c6868213",
   "metadata": {},
   "outputs": [],
   "source": [
    "classifier.fit(X_train, Y)\n",
    "predicted=classifier.predict(X_text)\n",
    "all_labels=mlb.inverse_transform(predicted)"
   ]
  },
  {
   "cell_type": "code",
   "execution_count": 22,
   "id": "cf9ad61f-86bf-4a47-8d02-23b3a7d2a12b",
   "metadata": {},
   "outputs": [
    {
     "name": "stdout",
     "output_type": "stream",
     "text": [
      "nice day in nyc\n",
      "welcome to london\n",
      "london is rainy\n",
      "new york is also called the big apple\n",
      "it is raining in britain\n",
      "hello welcome to new york enjoyed here and london too\n"
     ]
    }
   ],
   "source": [
    "for i in X_text:\n",
    "    print(i)"
   ]
  },
  {
   "cell_type": "code",
   "execution_count": 23,
   "id": "fcac443b-dfad-4aae-a2af-ffb678364347",
   "metadata": {},
   "outputs": [
    {
     "name": "stdout",
     "output_type": "stream",
     "text": [
      "[('new york',), ('london',), ('london',), ('new york',), ('london',), ('london', 'new york')]\n"
     ]
    }
   ],
   "source": [
    "print(all_labels)"
   ]
  },
  {
   "cell_type": "code",
   "execution_count": 24,
   "id": "18131494-b871-479e-9323-7fc2d790d0d3",
   "metadata": {},
   "outputs": [
    {
     "name": "stdout",
     "output_type": "stream",
     "text": [
      "nice day in nyc => new york\n",
      "welcome to london => london\n",
      "london is rainy => london\n",
      "new york is also called the big apple => new york\n",
      "it is raining in britain => london\n",
      "hello welcome to new york enjoyed here and london too => london,new york\n"
     ]
    }
   ],
   "source": [
    "for text, labels in zip(X_text, all_labels):\n",
    "    print('{0} => {1}'.format(text, ','.join(labels)))"
   ]
  },
  {
   "cell_type": "code",
   "execution_count": null,
   "id": "c307f4a6-411f-4f10-94f6-3c388aa18c24",
   "metadata": {},
   "outputs": [],
   "source": []
  }
 ],
 "metadata": {
  "kernelspec": {
   "display_name": "Python 3 (ipykernel)",
   "language": "python",
   "name": "python3"
  },
  "language_info": {
   "codemirror_mode": {
    "name": "ipython",
    "version": 3
   },
   "file_extension": ".py",
   "mimetype": "text/x-python",
   "name": "python",
   "nbconvert_exporter": "python",
   "pygments_lexer": "ipython3",
   "version": "3.11.7"
  }
 },
 "nbformat": 4,
 "nbformat_minor": 5
}
